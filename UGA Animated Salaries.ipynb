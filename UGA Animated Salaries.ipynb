{
 "cells": [
  {
   "cell_type": "code",
   "execution_count": 2,
   "id": "6e718006-e4b5-4234-81a0-36881e57d243",
   "metadata": {},
   "outputs": [],
   "source": [
    "import pandas as pd; import numpy as np; import math\n",
    "from scipy import stats\n",
    "import matplotlib.pyplot as plt; import matplotlib.ticker as ticker\n",
    "import matplotlib.animation as animation\n",
    "from IPython.display import HTML\n",
    "\n",
    "import io; import pywebio\n",
    "from pywebio.input import *; from pywebio.output import *\n",
    "from pywebio.session import *; from pywebio.pin import *\n",
    "#http://localhost:60914/"
   ]
  },
  {
   "cell_type": "code",
   "execution_count": 3,
   "id": "c1d525d0-7d65-4131-b878-bbfc5fdc7e8a",
   "metadata": {},
   "outputs": [],
   "source": [
    "### LOADING IN DATA ###\n",
    "df = pd.read_csv (\"SalaryComp.csv\", sep = '\\t')\n",
    "df = df.append({'Name':np.nan, 'Title':'SELECT', '2011':np.nan, '2012':np.nan, '2013':np.nan,\n",
    "                '2014':np.nan, '2015':np.nan, '2016':np.nan, '2017':np.nan, '2018':np.nan, \n",
    "                '2019':np.nan, '2020':np.nan, '2021':np.nan,}, ignore_index=True)\n",
    "Years = list(df.columns[2:])\n",
    "YearsRev = Years\n",
    "YearsRev.reverse()\n",
    "df[Years] = df[Years].abs() #positive\n",
    "\n",
    "Titles = sorted(df.Title.unique())\n",
    "Titles.remove('SELECT'); Titles.insert(0,'SELECT') #select has no data"
   ]
  },
  {
   "cell_type": "code",
   "execution_count": 4,
   "id": "18d81ef1-296a-43ce-a014-22a077dc2324",
   "metadata": {},
   "outputs": [
    {
     "data": {
      "image/png": "[encoded data removed]",
      "text/plain": [
       "<Figure size 1080x576 with 1 Axes>"
      ]
     },
     "metadata": {
      "needs_background": "light"
     },
     "output_type": "display_data"
    }
   ],
   "source": [
    "### HISTOGRAM FUNCTION ###\n",
    "\n",
    "def draw_hist(year):\n",
    "    ##SET UP X AND Y LIM\n",
    "    X1B = df[Years[0:]][df.Title == pin.in1] #array of all year's data\n",
    "    X2B = df[Years[0:]][df.Title == pin.in2] #-\n",
    "    HIST_BINS = np.arange(0, #bin's ceiling is max of all years, step by 5000\n",
    "                          (10000 * math.ceil(max(np.nanmax(X1B), np.nanmax(X2B))/10000)), 5000)\n",
    "    Y1B = [row[~np.isnan(row)] for row in X1B.T.to_numpy()] #array of all years data no NAN\n",
    "    Y2B = [row[~np.isnan(row)] for row in X2B.T.to_numpy()] #-\n",
    "    n = [] #initialize ylim\n",
    "    m = [] #-\n",
    "    for a in range(11):\n",
    "        n.append(max(np.histogram(Y1B[a], bins = HIST_BINS)[0])) #array of counts given bins\n",
    "        m.append(max(np.histogram(Y2B[a], bins = HIST_BINS)[0])) #-\n",
    "        \n",
    "    ##SET UP DATA\n",
    "    dat1 = np.array(df[Years[year-2011]][df.Title == pin.in1]) #array of current year data\n",
    "    dat2 = np.array(df[Years[year-2011]][df.Title == pin.in2]) #-\n",
    "    dat1 = dat1[np.logical_not(np.isnan(dat1))] #remove NAN\n",
    "    dat2 = dat2[np.logical_not(np.isnan(dat2))] #-\n",
    "    ax1.clear()\n",
    "    \n",
    "    ##CREATE HISTOGRAMS\n",
    "    ax1.hist(dat1, HIST_BINS, lw=1, alpha=0.5, color = \"red\") #first entry\n",
    "    ax1.hist(dat2, HIST_BINS, lw=1, alpha=0.5, color = \"black\") #second entry\n",
    "    \n",
    "    ##LEGENDS\n",
    "    if pin.in1 != 'SELECT' and pin.in2 != 'SELECT':\n",
    "        ax1.legend([str(pin.in1), str(pin.in2)], fontsize = \"large\", loc = \"upper right\")\n",
    "    elif pin.in2 == 'SELECT':\n",
    "        ax1.legend([str(pin.in1)], fontsize = \"large\", loc = \"upper right\")\n",
    "    elif pin.in1 == 'SELECT':\n",
    "        ax1.legend([str(pin.in2)], fontsize = \"large\", loc = \"upper right\")\n",
    "        \n",
    "    ##HIST FORMAT\n",
    "    ax1.margins(0, 0.01)\n",
    "    ax1.grid(which='major', axis='y', linestyle='-') #y gridlines\n",
    "    ax1.set_ylim(0, 5 * math.ceil(max(max(n),max(m))/5)) #ylim\n",
    "    \n",
    "    ##HIST LABS FORMAT\n",
    "    ax1.xaxis.set_major_formatter(ticker.StrMethodFormatter('${x:,.0f}')) #dollar sign format\n",
    "    ax1.yaxis.set_major_locator(ticker.MaxNLocator(integer=True)) #y axis integer\n",
    "    ax1.tick_params(axis='x', labelsize=15) #tick size\n",
    "    ax1.tick_params(axis='y', labelsize=15) #-\n",
    "    \n",
    "    ##HIST LABS\n",
    "    ax1.text(0.5, 1.04, 'Salary Distribution ' + str(year), #title, format, center\n",
    "             transform=ax1.transAxes, size=24, weight=600, ha = \"center\") \n",
    "    ax1.set_xlabel('Annual Salaries', size=18, weight=600, labelpad=15) #xlab\n",
    "    ax1.set_ylabel('Counts', size=18, weight=600, labelpad=15) #ylab\n",
    "fig1, ax1 = plt.subplots(figsize=(15, 8))"
   ]
  },
  {
   "cell_type": "code",
   "execution_count": 5,
   "id": "5a78dcdb-e125-4a45-bf57-f22a71ae9fb2",
   "metadata": {
    "tags": []
   },
   "outputs": [
    {
     "data": {
      "image/png": "[encoded data removed]",
      "text/plain": [
       "<Figure size 1080x576 with 1 Axes>"
      ]
     },
     "metadata": {
      "needs_background": "light"
     },
     "output_type": "display_data"
    }
   ],
   "source": [
    "### BOXPLOT FUNCTION ###\n",
    "\n",
    "def draw_bp(year):\n",
    "    ##SET UP X AND Y LIM\n",
    "    B1B = df[Years[0:]][df.Title == pin.in1] #array of all years data\n",
    "    B2B = df[Years[0:]][df.Title == pin.in2] #-\n",
    "    BB = (10000 * math.ceil(max(np.nanmax(B1B), np.nanmax(B2B))/10000)) #xlim given all year's data\n",
    "    \n",
    "    ##SET UP DATA\n",
    "    bat1 = np.array(df[Years[year-2011]][df.Title == pin.in1]) #array of current year data\n",
    "    bat2 = np.array(df[Years[year-2011]][df.Title == pin.in2]) #-\n",
    "    bat1 = bat1[np.logical_not(np.isnan(bat1))] #take out NAN\n",
    "    bat2 = bat2[np.logical_not(np.isnan(bat2))] #-\n",
    "    bat = list([bat2, bat1]) #combine both data\n",
    "    ax2.clear()\n",
    "    \n",
    "    ##CREATE BOXPLOT\n",
    "    box = ax2.boxplot(bat, vert = False, patch_artist=True)\n",
    "    \n",
    "    ##FORMAT BOXPLOT\n",
    "    for patch, color in zip(box['boxes'], ('k', 'red')): patch.set_facecolor(color) #box colors\n",
    "    for median, color in zip(box['medians'], ('red', 'k')): median.set_color(color) #median colors\n",
    "    ax2.get_yaxis().set_visible(False)\n",
    "    ax2.xaxis.set_major_formatter(ticker.StrMethodFormatter('${x:,.0f}')) #dollar sign format\n",
    "    ax2.tick_params(axis='x', labelsize=15) #x tick size\n",
    "    ax2.grid(which='major', axis='x', linestyle='-') #x grid\n",
    "    ax2.set_xlim(0, BB) #xlim\n",
    "    \n",
    "    ##BOXPLOT LABS\n",
    "    ax2.text(.5, 1.04, 'Salary Distribution ' + str(year), #title, format center\n",
    "            transform=ax1.transAxes, size=24, weight=600, ha = \"center\")\n",
    "    ax2.text(BB/100, 2.15, str(pin.in1), fontsize = 15, weight = 600) #entry 1 lab\n",
    "    ax2.text(BB/100, 1.15, str(pin.in2), fontsize = 15, weight = 600) #entry 2 lab\n",
    "    ax2.set_xlabel('Annual Salaries', size=18, weight=600, labelpad=15) #xlab\n",
    "    \n",
    "fig2, ax2 = plt.subplots(figsize=(15, 8))"
   ]
  },
  {
   "cell_type": "code",
   "execution_count": null,
   "id": "663a61fe-1537-4533-9e89-b07665ed2b3f",
   "metadata": {
    "tags": []
   },
   "outputs": [],
   "source": [
    "def main():\n",
    "    put_markdown(\"# University of Georgia Staff Salaries by Year\") #intro info\n",
    "    put_markdown(\"In accordance with the Official Code of Georgia, the Department \"\n",
    "                 \"of Audits and Accounts has provided data on all salaries of all \"\n",
    "                 \"employees of the State of Georgia and employees of local boards \"\n",
    "                 \"of education. All information being analyzed has been released \"\n",
    "                 \"on the official \"\n",
    "                 \"[Open Georgia](https://open.ga.gov/openga/sta) website. \\n\\n\"\n",
    "             \n",
    "                 \"&nbsp;&nbsp;&nbsp;&nbsp;&nbsp;&nbsp;&nbsp;&nbsp;&nbsp;&nbsp;\"\n",
    "                 \"This application creates an animated histogram and table output looking at the \"\n",
    "                 \"salaries of all staff at the University of Georgia over the \"\n",
    "                 \"years, starting with June 30, 2010 and ending with June 30, \"\n",
    "                 \"2021. Each fiscal year begins on July 1st and ends on June 30th \"\n",
    "                 \"the following year. \\n\\n\"\n",
    "                 \n",
    "                 \"&nbsp;&nbsp;&nbsp;&nbsp;&nbsp;&nbsp;&nbsp;&nbsp;&nbsp;&nbsp;\"\n",
    "                 \"It should be noted that employees who have been entered into the \"\n",
    "                 \"database twice under the same in the same year have been excluded. \n",
    "                 \"In addition, empty graphs indicate that there was no employee that \"\n",
    "                 \"held the selected position title in the year shown.\")\n",
    "    ##INPUTS\n",
    "    put_markdown(\"## Select Title\")\n",
    "    put_select(name='in1', options=Titles) #select 1\n",
    "    put_select(name='in2', options=Titles) #select 2\n",
    "    put_actions('actions', buttons=[ #creating Buttons\n",
    "        {'label': 'Submit', 'value': 'submit'},\n",
    "    ], scope=None, position=-1)\n",
    "    \n",
    "    while True:\n",
    "        pin_wait_change(['actions']) #wait for submit button\n",
    "        with use_scope('ttl', clear=True): #insert scope, clear when renewed\n",
    "            with put_loading(): #loading animation circle thingy\n",
    "                \n",
    "                ##CALL ANIMATIONS\n",
    "                hist_ani = animation.FuncAnimation(fig1, draw_hist, frames=range(2011, 2022)) #animated hist call\n",
    "                bp_ani = animation.FuncAnimation(fig2, draw_bp, frames=range(2011, 2022)) #animated boxplot call\n",
    "                ##CREATE TABLES\n",
    "                tab1 = df[Years[0:]][df.Title == pin.in1].sort_values( #table of all salaries by person, sorted by year desc\n",
    "                    by = YearsRev, ascending = [False]*11, na_position = 'last'); tab1 = tab1.dropna(axis=1, how='all')\n",
    "                tab2 = df[Years[0:]][df.Title == pin.in2].sort_values( #-, sal desc, na = last, drop if col empty\n",
    "                    by = YearsRev, ascending = [False]*11, na_position = 'last'); tab2 = tab2.dropna(axis=1, how='all')\n",
    "                \n",
    "                \n",
    "                ##OUTPUTS\n",
    "                if pin.in1 != 'SELECT' and pin.in2 != 'SELECT': #if for if some empty\n",
    "                    put_tabs([\n",
    "                    {'title': 'Animated Histogram', 'content': put_html(HTML(hist_ani.to_jshtml()))}, #title, hist\n",
    "                    {'title': 'Animated Boxplot', 'content': [ #boxplot\n",
    "                        put_html(HTML(bp_ani.to_jshtml())) #\n",
    "                        #,\n",
    "                        #put_markdown(\"#### Input salary to calculate percentile\"),\n",
    "                        #put_input(type='number',  name=\"AS\") #validate=None, placeholder=None\n",
    "                        ]},\n",
    "                    {'title': 'Salaries Table 1', 'content': [ #title, table 1\n",
    "                        put_markdown(\"### Table of Annual Salaries for \" + str(pin.in1)),\n",
    "                        put_html(tab1.to_html(border=0,table_id=\"Table of Annual Salaries by Employee\"))]},\n",
    "                    {'title': 'Salaries Table 2', 'content': [ #title, table 2\n",
    "                        put_markdown(\"### Table of Annual Salaries for \" + str(pin.in2)),\n",
    "                        put_html(tab2.to_html(border=0,table_id=\"Table of Annual Salaries by Employee\"))]}\n",
    "                    ])\n",
    "                elif pin.in2 == 'SELECT':\n",
    "                    put_tabs([\n",
    "                    {'title': 'Animated Histogram', 'content': put_html(HTML(hist_ani.to_jshtml()))},\n",
    "                    {'title': 'Salaries Table', 'content': [\n",
    "                        put_markdown(\"### Table of Annual Salaries for \" + str(pin.in1)),\n",
    "                        put_html(tab1.to_html(border=0,table_id=\"Table of Annual Salaries by Employee\"))]}\n",
    "                    ])\n",
    "                elif pin.in1 == 'SELECT':\n",
    "                    put_tabs([\n",
    "                    {'title': 'Animated Histogram', 'content': put_html(HTML(hist_ani.to_jshtml()))},\n",
    "                    {'title': 'Salaries Table', 'content': [\n",
    "                        put_markdown(\"### Table of Annual Salaries for \" + str(pin.in2)),\n",
    "                        put_html(tab2.to_html(border=0,table_id=\"Table of Annual Salaries by Employee\"))]}\n",
    "                    ])\n",
    "\n",
    "main()"
   ]
  },
  {
   "cell_type": "code",
   "execution_count": null,
   "id": "1f07eede-2719-4152-8955-6f358d3885c8",
   "metadata": {},
   "outputs": [],
   "source": []
  }
 ],
 "metadata": {
  "kernelspec": {
   "display_name": "Python 3",
   "language": "python",
   "name": "python3"
  },
  "language_info": {
   "codemirror_mode": {
    "name": "ipython",
    "version": 3
   },
   "file_extension": ".py",
   "mimetype": "text/x-python",
   "name": "python",
   "nbconvert_exporter": "python",
   "pygments_lexer": "ipython3",
   "version": "3.8.8"
  }
 },
 "nbformat": 4,
 "nbformat_minor": 5
}
